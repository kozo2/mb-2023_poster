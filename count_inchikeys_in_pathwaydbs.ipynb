{
 "cells": [
  {
   "cell_type": "code",
   "execution_count": 1,
   "metadata": {},
   "outputs": [],
   "source": [
    "import pandas as pd"
   ]
  },
  {
   "cell_type": "code",
   "execution_count": null,
   "metadata": {},
   "outputs": [],
   "source": [
    "import pandas as pd\n",
    "import pickle\n",
    "\n",
    "mw_df = pd.read_table(\"data/mw/refmet_in_allmsstudies_hasinchikey.tsv\")\n",
    "\n",
    "kegg_df = pd.read_table(\"data/kegg/pathway_inchikey_dict.tsv\")\n",
    "pathbank_df = pickle.load(\"data/pathbank/pathbank_all_metabolites.pkl.gz\")\n",
    "wikipathways_df = pd.read_csv(\"data/wikipathways/wikipathways2inchikey.csv\")\n"
   ]
  }
 ],
 "metadata": {
  "kernelspec": {
   "display_name": "base",
   "language": "python",
   "name": "python3"
  },
  "language_info": {
   "codemirror_mode": {
    "name": "ipython",
    "version": 3
   },
   "file_extension": ".py",
   "mimetype": "text/x-python",
   "name": "python",
   "nbconvert_exporter": "python",
   "pygments_lexer": "ipython3",
   "version": "3.10.12"
  }
 },
 "nbformat": 4,
 "nbformat_minor": 2
}
