{
 "cells": [
  {
   "cell_type": "code",
   "execution_count": 1,
   "metadata": {},
   "outputs": [],
   "source": [
    "# import pandas and read ~/Desktop/pathbank_all_metabolites.csv into a dataframe\n",
    "import pandas as pd\n",
    "df = pd.read_csv('~/Desktop/pathbank_all_metabolites.csv')"
   ]
  },
  {
   "cell_type": "code",
   "execution_count": 2,
   "metadata": {},
   "outputs": [
    {
     "data": {
      "text/html": [
       "<div>\n",
       "<style scoped>\n",
       "    .dataframe tbody tr th:only-of-type {\n",
       "        vertical-align: middle;\n",
       "    }\n",
       "\n",
       "    .dataframe tbody tr th {\n",
       "        vertical-align: top;\n",
       "    }\n",
       "\n",
       "    .dataframe thead th {\n",
       "        text-align: right;\n",
       "    }\n",
       "</style>\n",
       "<table border=\"1\" class=\"dataframe\">\n",
       "  <thead>\n",
       "    <tr style=\"text-align: right;\">\n",
       "      <th></th>\n",
       "      <th>PathBank ID</th>\n",
       "      <th>Pathway Name</th>\n",
       "      <th>Pathway Subject</th>\n",
       "      <th>Species</th>\n",
       "      <th>Metabolite ID</th>\n",
       "      <th>Metabolite Name</th>\n",
       "      <th>HMDB ID</th>\n",
       "      <th>KEGG ID</th>\n",
       "      <th>ChEBI ID</th>\n",
       "      <th>DrugBank ID</th>\n",
       "      <th>CAS</th>\n",
       "      <th>Formula</th>\n",
       "      <th>IUPAC</th>\n",
       "      <th>SMILES</th>\n",
       "      <th>InChI</th>\n",
       "      <th>InChI Key</th>\n",
       "    </tr>\n",
       "  </thead>\n",
       "  <tbody>\n",
       "    <tr>\n",
       "      <th>0</th>\n",
       "      <td>SMP0000055</td>\n",
       "      <td>Alanine Metabolism</td>\n",
       "      <td>Metabolic</td>\n",
       "      <td>Homo sapiens</td>\n",
       "      <td>PW_C000414</td>\n",
       "      <td>Adenosine triphosphate</td>\n",
       "      <td>HMDB0000538</td>\n",
       "      <td>C00002</td>\n",
       "      <td>15422.0</td>\n",
       "      <td>DB00171</td>\n",
       "      <td>56-65-5</td>\n",
       "      <td>C10H16N5O13P3</td>\n",
       "      <td>({[({[(2R,3S,4R,5R)-5-(6-amino-9H-purin-9-yl)-...</td>\n",
       "      <td>NC1=NC=NC2=C1N=CN2[C@@H]1O[C@H](COP(O)(=O)OP(O...</td>\n",
       "      <td>InChI=1S/C10H16N5O13P3/c11-8-5-9(13-2-12-8)15(...</td>\n",
       "      <td>ZKHQWZAMYRWXGA-KQYNXXCUSA-N</td>\n",
       "    </tr>\n",
       "    <tr>\n",
       "      <th>1</th>\n",
       "      <td>SMP0000055</td>\n",
       "      <td>Alanine Metabolism</td>\n",
       "      <td>Metabolic</td>\n",
       "      <td>Homo sapiens</td>\n",
       "      <td>PW_C000105</td>\n",
       "      <td>L-Alanine</td>\n",
       "      <td>HMDB0000161</td>\n",
       "      <td>C00041</td>\n",
       "      <td>16977.0</td>\n",
       "      <td>DB00160</td>\n",
       "      <td>56-41-7</td>\n",
       "      <td>C3H7NO2</td>\n",
       "      <td>(2S)-2-aminopropanoic acid</td>\n",
       "      <td>C[C@H](N)C(O)=O</td>\n",
       "      <td>InChI=1S/C3H7NO2/c1-2(4)3(5)6/h2H,4H2,1H3,(H,5...</td>\n",
       "      <td>QNAYBMKLOCPYGJ-REOHCLBHSA-N</td>\n",
       "    </tr>\n",
       "    <tr>\n",
       "      <th>2</th>\n",
       "      <td>SMP0000055</td>\n",
       "      <td>Alanine Metabolism</td>\n",
       "      <td>Metabolic</td>\n",
       "      <td>Homo sapiens</td>\n",
       "      <td>PW_C000032</td>\n",
       "      <td>Adenosine monophosphate</td>\n",
       "      <td>HMDB0000045</td>\n",
       "      <td>C00020</td>\n",
       "      <td>16027.0</td>\n",
       "      <td>DB00131</td>\n",
       "      <td>61-19-8</td>\n",
       "      <td>C10H14N5O7P</td>\n",
       "      <td>{[(2R,3S,4R,5R)-5-(6-amino-9H-purin-9-yl)-3,4-...</td>\n",
       "      <td>NC1=C2N=CN([C@@H]3O[C@H](COP(O)(O)=O)[C@@H](O)...</td>\n",
       "      <td>InChI=1S/C10H14N5O7P/c11-8-5-9(13-2-12-8)15(3-...</td>\n",
       "      <td>UDMBCSSLTHHNCD-KQYNXXCUSA-N</td>\n",
       "    </tr>\n",
       "    <tr>\n",
       "      <th>3</th>\n",
       "      <td>SMP0000055</td>\n",
       "      <td>Alanine Metabolism</td>\n",
       "      <td>Metabolic</td>\n",
       "      <td>Homo sapiens</td>\n",
       "      <td>PW_C000170</td>\n",
       "      <td>Pyrophosphate</td>\n",
       "      <td>HMDB0000250</td>\n",
       "      <td>C00013</td>\n",
       "      <td>18361.0</td>\n",
       "      <td>DB04160</td>\n",
       "      <td>14000-31-8</td>\n",
       "      <td>O7P2</td>\n",
       "      <td>(phosphonooxy)phosphonic acid</td>\n",
       "      <td>[O-]P([O-])(=O)OP([O-])([O-])=O</td>\n",
       "      <td>InChI=1S/H4O7P2/c1-8(2,3)7-9(4,5)6/h(H2,1,2,3)...</td>\n",
       "      <td>XPPKVPWEQAFLFU-UHFFFAOYSA-J</td>\n",
       "    </tr>\n",
       "    <tr>\n",
       "      <th>4</th>\n",
       "      <td>SMP0000055</td>\n",
       "      <td>Alanine Metabolism</td>\n",
       "      <td>Metabolic</td>\n",
       "      <td>Homo sapiens</td>\n",
       "      <td>PW_C001005</td>\n",
       "      <td>Zinc (II) ion</td>\n",
       "      <td>HMDB0001303</td>\n",
       "      <td>C00038</td>\n",
       "      <td>29105.0</td>\n",
       "      <td>DB01593</td>\n",
       "      <td>23713-49-7</td>\n",
       "      <td>Zn</td>\n",
       "      <td>zinc(2+) ion</td>\n",
       "      <td>[Zn++]</td>\n",
       "      <td>InChI=1S/Zn/q+2</td>\n",
       "      <td>PTFCDOFLOPIGGS-UHFFFAOYSA-N</td>\n",
       "    </tr>\n",
       "  </tbody>\n",
       "</table>\n",
       "</div>"
      ],
      "text/plain": [
       "  PathBank ID        Pathway Name Pathway Subject       Species Metabolite ID  \\\n",
       "0  SMP0000055  Alanine Metabolism       Metabolic  Homo sapiens    PW_C000414   \n",
       "1  SMP0000055  Alanine Metabolism       Metabolic  Homo sapiens    PW_C000105   \n",
       "2  SMP0000055  Alanine Metabolism       Metabolic  Homo sapiens    PW_C000032   \n",
       "3  SMP0000055  Alanine Metabolism       Metabolic  Homo sapiens    PW_C000170   \n",
       "4  SMP0000055  Alanine Metabolism       Metabolic  Homo sapiens    PW_C001005   \n",
       "\n",
       "           Metabolite Name      HMDB ID KEGG ID  ChEBI ID DrugBank ID  \\\n",
       "0   Adenosine triphosphate  HMDB0000538  C00002   15422.0     DB00171   \n",
       "1                L-Alanine  HMDB0000161  C00041   16977.0     DB00160   \n",
       "2  Adenosine monophosphate  HMDB0000045  C00020   16027.0     DB00131   \n",
       "3            Pyrophosphate  HMDB0000250  C00013   18361.0     DB04160   \n",
       "4            Zinc (II) ion  HMDB0001303  C00038   29105.0     DB01593   \n",
       "\n",
       "          CAS        Formula  \\\n",
       "0     56-65-5  C10H16N5O13P3   \n",
       "1     56-41-7        C3H7NO2   \n",
       "2     61-19-8    C10H14N5O7P   \n",
       "3  14000-31-8           O7P2   \n",
       "4  23713-49-7             Zn   \n",
       "\n",
       "                                               IUPAC  \\\n",
       "0  ({[({[(2R,3S,4R,5R)-5-(6-amino-9H-purin-9-yl)-...   \n",
       "1                         (2S)-2-aminopropanoic acid   \n",
       "2  {[(2R,3S,4R,5R)-5-(6-amino-9H-purin-9-yl)-3,4-...   \n",
       "3                      (phosphonooxy)phosphonic acid   \n",
       "4                                       zinc(2+) ion   \n",
       "\n",
       "                                              SMILES  \\\n",
       "0  NC1=NC=NC2=C1N=CN2[C@@H]1O[C@H](COP(O)(=O)OP(O...   \n",
       "1                                    C[C@H](N)C(O)=O   \n",
       "2  NC1=C2N=CN([C@@H]3O[C@H](COP(O)(O)=O)[C@@H](O)...   \n",
       "3                    [O-]P([O-])(=O)OP([O-])([O-])=O   \n",
       "4                                             [Zn++]   \n",
       "\n",
       "                                               InChI  \\\n",
       "0  InChI=1S/C10H16N5O13P3/c11-8-5-9(13-2-12-8)15(...   \n",
       "1  InChI=1S/C3H7NO2/c1-2(4)3(5)6/h2H,4H2,1H3,(H,5...   \n",
       "2  InChI=1S/C10H14N5O7P/c11-8-5-9(13-2-12-8)15(3-...   \n",
       "3  InChI=1S/H4O7P2/c1-8(2,3)7-9(4,5)6/h(H2,1,2,3)...   \n",
       "4                                    InChI=1S/Zn/q+2   \n",
       "\n",
       "                     InChI Key  \n",
       "0  ZKHQWZAMYRWXGA-KQYNXXCUSA-N  \n",
       "1  QNAYBMKLOCPYGJ-REOHCLBHSA-N  \n",
       "2  UDMBCSSLTHHNCD-KQYNXXCUSA-N  \n",
       "3  XPPKVPWEQAFLFU-UHFFFAOYSA-J  \n",
       "4  PTFCDOFLOPIGGS-UHFFFAOYSA-N  "
      ]
     },
     "execution_count": 2,
     "metadata": {},
     "output_type": "execute_result"
    }
   ],
   "source": [
    "df.head()"
   ]
  },
  {
   "cell_type": "code",
   "execution_count": 3,
   "metadata": {},
   "outputs": [],
   "source": [
    "# save the dataframe as a pickle file\n",
    "df.to_pickle('~/Desktop/pathbank_all_metabolites.pkl')"
   ]
  },
  {
   "cell_type": "code",
   "execution_count": 4,
   "metadata": {},
   "outputs": [],
   "source": [
    "# save the dataframe as the most compact pickle file\n",
    "df.to_pickle('~/Desktop/pathbank_all_metabolites.pkl.gz')"
   ]
  },
  {
   "cell_type": "code",
   "execution_count": 10,
   "metadata": {},
   "outputs": [],
   "source": [
    "# read the compressed pickle file\n",
    "import pandas as pd\n",
    "df2 = pd.read_pickle(\"C:\\\\Users\\\\kozo2\\\\Documents\\\\GitHub\\\\mb-2023_poster\\\\data\\\\pathbank\\\\pathbank_all_metabolites.pkl.gz\")"
   ]
  },
  {
   "cell_type": "code",
   "execution_count": 11,
   "metadata": {},
   "outputs": [
    {
     "data": {
      "text/html": [
       "<div>\n",
       "<style scoped>\n",
       "    .dataframe tbody tr th:only-of-type {\n",
       "        vertical-align: middle;\n",
       "    }\n",
       "\n",
       "    .dataframe tbody tr th {\n",
       "        vertical-align: top;\n",
       "    }\n",
       "\n",
       "    .dataframe thead th {\n",
       "        text-align: right;\n",
       "    }\n",
       "</style>\n",
       "<table border=\"1\" class=\"dataframe\">\n",
       "  <thead>\n",
       "    <tr style=\"text-align: right;\">\n",
       "      <th></th>\n",
       "      <th>PathBank ID</th>\n",
       "      <th>Pathway Name</th>\n",
       "      <th>Pathway Subject</th>\n",
       "      <th>Species</th>\n",
       "      <th>Metabolite ID</th>\n",
       "      <th>Metabolite Name</th>\n",
       "      <th>HMDB ID</th>\n",
       "      <th>KEGG ID</th>\n",
       "      <th>ChEBI ID</th>\n",
       "      <th>DrugBank ID</th>\n",
       "      <th>CAS</th>\n",
       "      <th>Formula</th>\n",
       "      <th>IUPAC</th>\n",
       "      <th>SMILES</th>\n",
       "      <th>InChI</th>\n",
       "      <th>InChI Key</th>\n",
       "    </tr>\n",
       "  </thead>\n",
       "  <tbody>\n",
       "    <tr>\n",
       "      <th>0</th>\n",
       "      <td>SMP0000055</td>\n",
       "      <td>Alanine Metabolism</td>\n",
       "      <td>Metabolic</td>\n",
       "      <td>Homo sapiens</td>\n",
       "      <td>PW_C000414</td>\n",
       "      <td>Adenosine triphosphate</td>\n",
       "      <td>HMDB0000538</td>\n",
       "      <td>C00002</td>\n",
       "      <td>15422.0</td>\n",
       "      <td>DB00171</td>\n",
       "      <td>56-65-5</td>\n",
       "      <td>C10H16N5O13P3</td>\n",
       "      <td>({[({[(2R,3S,4R,5R)-5-(6-amino-9H-purin-9-yl)-...</td>\n",
       "      <td>NC1=NC=NC2=C1N=CN2[C@@H]1O[C@H](COP(O)(=O)OP(O...</td>\n",
       "      <td>InChI=1S/C10H16N5O13P3/c11-8-5-9(13-2-12-8)15(...</td>\n",
       "      <td>ZKHQWZAMYRWXGA-KQYNXXCUSA-N</td>\n",
       "    </tr>\n",
       "    <tr>\n",
       "      <th>1</th>\n",
       "      <td>SMP0000055</td>\n",
       "      <td>Alanine Metabolism</td>\n",
       "      <td>Metabolic</td>\n",
       "      <td>Homo sapiens</td>\n",
       "      <td>PW_C000105</td>\n",
       "      <td>L-Alanine</td>\n",
       "      <td>HMDB0000161</td>\n",
       "      <td>C00041</td>\n",
       "      <td>16977.0</td>\n",
       "      <td>DB00160</td>\n",
       "      <td>56-41-7</td>\n",
       "      <td>C3H7NO2</td>\n",
       "      <td>(2S)-2-aminopropanoic acid</td>\n",
       "      <td>C[C@H](N)C(O)=O</td>\n",
       "      <td>InChI=1S/C3H7NO2/c1-2(4)3(5)6/h2H,4H2,1H3,(H,5...</td>\n",
       "      <td>QNAYBMKLOCPYGJ-REOHCLBHSA-N</td>\n",
       "    </tr>\n",
       "    <tr>\n",
       "      <th>2</th>\n",
       "      <td>SMP0000055</td>\n",
       "      <td>Alanine Metabolism</td>\n",
       "      <td>Metabolic</td>\n",
       "      <td>Homo sapiens</td>\n",
       "      <td>PW_C000032</td>\n",
       "      <td>Adenosine monophosphate</td>\n",
       "      <td>HMDB0000045</td>\n",
       "      <td>C00020</td>\n",
       "      <td>16027.0</td>\n",
       "      <td>DB00131</td>\n",
       "      <td>61-19-8</td>\n",
       "      <td>C10H14N5O7P</td>\n",
       "      <td>{[(2R,3S,4R,5R)-5-(6-amino-9H-purin-9-yl)-3,4-...</td>\n",
       "      <td>NC1=C2N=CN([C@@H]3O[C@H](COP(O)(O)=O)[C@@H](O)...</td>\n",
       "      <td>InChI=1S/C10H14N5O7P/c11-8-5-9(13-2-12-8)15(3-...</td>\n",
       "      <td>UDMBCSSLTHHNCD-KQYNXXCUSA-N</td>\n",
       "    </tr>\n",
       "    <tr>\n",
       "      <th>3</th>\n",
       "      <td>SMP0000055</td>\n",
       "      <td>Alanine Metabolism</td>\n",
       "      <td>Metabolic</td>\n",
       "      <td>Homo sapiens</td>\n",
       "      <td>PW_C000170</td>\n",
       "      <td>Pyrophosphate</td>\n",
       "      <td>HMDB0000250</td>\n",
       "      <td>C00013</td>\n",
       "      <td>18361.0</td>\n",
       "      <td>DB04160</td>\n",
       "      <td>14000-31-8</td>\n",
       "      <td>O7P2</td>\n",
       "      <td>(phosphonooxy)phosphonic acid</td>\n",
       "      <td>[O-]P([O-])(=O)OP([O-])([O-])=O</td>\n",
       "      <td>InChI=1S/H4O7P2/c1-8(2,3)7-9(4,5)6/h(H2,1,2,3)...</td>\n",
       "      <td>XPPKVPWEQAFLFU-UHFFFAOYSA-J</td>\n",
       "    </tr>\n",
       "    <tr>\n",
       "      <th>4</th>\n",
       "      <td>SMP0000055</td>\n",
       "      <td>Alanine Metabolism</td>\n",
       "      <td>Metabolic</td>\n",
       "      <td>Homo sapiens</td>\n",
       "      <td>PW_C001005</td>\n",
       "      <td>Zinc (II) ion</td>\n",
       "      <td>HMDB0001303</td>\n",
       "      <td>C00038</td>\n",
       "      <td>29105.0</td>\n",
       "      <td>DB01593</td>\n",
       "      <td>23713-49-7</td>\n",
       "      <td>Zn</td>\n",
       "      <td>zinc(2+) ion</td>\n",
       "      <td>[Zn++]</td>\n",
       "      <td>InChI=1S/Zn/q+2</td>\n",
       "      <td>PTFCDOFLOPIGGS-UHFFFAOYSA-N</td>\n",
       "    </tr>\n",
       "  </tbody>\n",
       "</table>\n",
       "</div>"
      ],
      "text/plain": [
       "  PathBank ID        Pathway Name Pathway Subject       Species Metabolite ID  \\\n",
       "0  SMP0000055  Alanine Metabolism       Metabolic  Homo sapiens    PW_C000414   \n",
       "1  SMP0000055  Alanine Metabolism       Metabolic  Homo sapiens    PW_C000105   \n",
       "2  SMP0000055  Alanine Metabolism       Metabolic  Homo sapiens    PW_C000032   \n",
       "3  SMP0000055  Alanine Metabolism       Metabolic  Homo sapiens    PW_C000170   \n",
       "4  SMP0000055  Alanine Metabolism       Metabolic  Homo sapiens    PW_C001005   \n",
       "\n",
       "           Metabolite Name      HMDB ID KEGG ID  ChEBI ID DrugBank ID  \\\n",
       "0   Adenosine triphosphate  HMDB0000538  C00002   15422.0     DB00171   \n",
       "1                L-Alanine  HMDB0000161  C00041   16977.0     DB00160   \n",
       "2  Adenosine monophosphate  HMDB0000045  C00020   16027.0     DB00131   \n",
       "3            Pyrophosphate  HMDB0000250  C00013   18361.0     DB04160   \n",
       "4            Zinc (II) ion  HMDB0001303  C00038   29105.0     DB01593   \n",
       "\n",
       "          CAS        Formula  \\\n",
       "0     56-65-5  C10H16N5O13P3   \n",
       "1     56-41-7        C3H7NO2   \n",
       "2     61-19-8    C10H14N5O7P   \n",
       "3  14000-31-8           O7P2   \n",
       "4  23713-49-7             Zn   \n",
       "\n",
       "                                               IUPAC  \\\n",
       "0  ({[({[(2R,3S,4R,5R)-5-(6-amino-9H-purin-9-yl)-...   \n",
       "1                         (2S)-2-aminopropanoic acid   \n",
       "2  {[(2R,3S,4R,5R)-5-(6-amino-9H-purin-9-yl)-3,4-...   \n",
       "3                      (phosphonooxy)phosphonic acid   \n",
       "4                                       zinc(2+) ion   \n",
       "\n",
       "                                              SMILES  \\\n",
       "0  NC1=NC=NC2=C1N=CN2[C@@H]1O[C@H](COP(O)(=O)OP(O...   \n",
       "1                                    C[C@H](N)C(O)=O   \n",
       "2  NC1=C2N=CN([C@@H]3O[C@H](COP(O)(O)=O)[C@@H](O)...   \n",
       "3                    [O-]P([O-])(=O)OP([O-])([O-])=O   \n",
       "4                                             [Zn++]   \n",
       "\n",
       "                                               InChI  \\\n",
       "0  InChI=1S/C10H16N5O13P3/c11-8-5-9(13-2-12-8)15(...   \n",
       "1  InChI=1S/C3H7NO2/c1-2(4)3(5)6/h2H,4H2,1H3,(H,5...   \n",
       "2  InChI=1S/C10H14N5O7P/c11-8-5-9(13-2-12-8)15(3-...   \n",
       "3  InChI=1S/H4O7P2/c1-8(2,3)7-9(4,5)6/h(H2,1,2,3)...   \n",
       "4                                    InChI=1S/Zn/q+2   \n",
       "\n",
       "                     InChI Key  \n",
       "0  ZKHQWZAMYRWXGA-KQYNXXCUSA-N  \n",
       "1  QNAYBMKLOCPYGJ-REOHCLBHSA-N  \n",
       "2  UDMBCSSLTHHNCD-KQYNXXCUSA-N  \n",
       "3  XPPKVPWEQAFLFU-UHFFFAOYSA-J  \n",
       "4  PTFCDOFLOPIGGS-UHFFFAOYSA-N  "
      ]
     },
     "execution_count": 11,
     "metadata": {},
     "output_type": "execute_result"
    }
   ],
   "source": [
    "df2.head()"
   ]
  },
  {
   "cell_type": "code",
   "execution_count": 42,
   "metadata": {},
   "outputs": [],
   "source": [
    "pathbank_inchikeys = df2['InChI Key'].unique()"
   ]
  },
  {
   "cell_type": "code",
   "execution_count": 43,
   "metadata": {},
   "outputs": [
    {
     "data": {
      "text/plain": [
       "78193"
      ]
     },
     "execution_count": 43,
     "metadata": {},
     "output_type": "execute_result"
    }
   ],
   "source": [
    "len(pathbank_inchikeys)"
   ]
  },
  {
   "cell_type": "code",
   "execution_count": 44,
   "metadata": {},
   "outputs": [],
   "source": [
    "# remove elements with NaN from pathbank_inchikeys\n",
    "pathbank_inchikeys = pathbank_inchikeys[~pd.isnull(pathbank_inchikeys)]"
   ]
  },
  {
   "cell_type": "code",
   "execution_count": 45,
   "metadata": {},
   "outputs": [
    {
     "data": {
      "text/plain": [
       "78192"
      ]
     },
     "execution_count": 45,
     "metadata": {},
     "output_type": "execute_result"
    }
   ],
   "source": [
    "len(pathbank_inchikeys)"
   ]
  },
  {
   "cell_type": "code",
   "execution_count": 47,
   "metadata": {},
   "outputs": [],
   "source": [
    "# check all the pathbank_inchikeys are length 27\n",
    "for i in pathbank_inchikeys:\n",
    "    if type(i) != str:\n",
    "        print(i)\n"
   ]
  },
  {
   "cell_type": "code",
   "execution_count": 13,
   "metadata": {},
   "outputs": [],
   "source": [
    "refmet = pd.read_csv(\"C:\\\\Users\\\\kozo2\\\\Documents\\\\GitHub\\\\mb-2023_poster\\\\refmet_in_allmsstudies_hasinchikey.tsv\", sep='\\t')"
   ]
  },
  {
   "cell_type": "code",
   "execution_count": 14,
   "metadata": {},
   "outputs": [
    {
     "data": {
      "text/html": [
       "<div>\n",
       "<style scoped>\n",
       "    .dataframe tbody tr th:only-of-type {\n",
       "        vertical-align: middle;\n",
       "    }\n",
       "\n",
       "    .dataframe tbody tr th {\n",
       "        vertical-align: top;\n",
       "    }\n",
       "\n",
       "    .dataframe thead th {\n",
       "        text-align: right;\n",
       "    }\n",
       "</style>\n",
       "<table border=\"1\" class=\"dataframe\">\n",
       "  <thead>\n",
       "    <tr style=\"text-align: right;\">\n",
       "      <th></th>\n",
       "      <th>refmet_name</th>\n",
       "      <th>super_class</th>\n",
       "      <th>main_class</th>\n",
       "      <th>sub_class</th>\n",
       "      <th>formula</th>\n",
       "      <th>exactmass</th>\n",
       "      <th>inchi_key</th>\n",
       "      <th>smiles</th>\n",
       "      <th>pubchem_cid</th>\n",
       "    </tr>\n",
       "  </thead>\n",
       "  <tbody>\n",
       "    <tr>\n",
       "      <th>0</th>\n",
       "      <td>Acutumidine</td>\n",
       "      <td>Alkaloids</td>\n",
       "      <td>Alkaloids</td>\n",
       "      <td>Other alkaloids</td>\n",
       "      <td>C18H22ClNO6</td>\n",
       "      <td>383.113567</td>\n",
       "      <td>SBALNGLYQFMKPR-NQTWQHAWSA-N</td>\n",
       "      <td>COC1=CC(=O)[C@@]2([C@@H]1O)[C@@H](Cl)C[C@]13NC...</td>\n",
       "      <td>442840.0</td>\n",
       "    </tr>\n",
       "    <tr>\n",
       "      <th>1</th>\n",
       "      <td>Adifoline</td>\n",
       "      <td>Alkaloids</td>\n",
       "      <td>Alkaloids</td>\n",
       "      <td>Other alkaloids</td>\n",
       "      <td>C22H20N2O7</td>\n",
       "      <td>424.127053</td>\n",
       "      <td>DJWXVEDJWPDUBQ-DEALGVFLSA-N</td>\n",
       "      <td>COC(=O)C1=CO[C@H](O)[C@H]2[C@@H]1Cc1nc(C(=O)O)...</td>\n",
       "      <td>441972.0</td>\n",
       "    </tr>\n",
       "    <tr>\n",
       "      <th>2</th>\n",
       "      <td>Adlumine</td>\n",
       "      <td>Alkaloids</td>\n",
       "      <td>Alkaloids</td>\n",
       "      <td>Other alkaloids</td>\n",
       "      <td>C21H21NO6</td>\n",
       "      <td>383.136889</td>\n",
       "      <td>SZDGAZFTAUFFQH-OALUTQOASA-N</td>\n",
       "      <td>COc1cc2c(cc1OC)[C@@H]([C@H]1OC(=O)c3c1ccc1c3OC...</td>\n",
       "      <td>442155.0</td>\n",
       "    </tr>\n",
       "    <tr>\n",
       "      <th>3</th>\n",
       "      <td>Affinine</td>\n",
       "      <td>Alkaloids</td>\n",
       "      <td>Alkaloids</td>\n",
       "      <td>Other alkaloids</td>\n",
       "      <td>C20H24N2O2</td>\n",
       "      <td>324.183778</td>\n",
       "      <td>PXFBZOLANLWPMH-SMLHJDAJSA-N</td>\n",
       "      <td>C/C=C1/CN(C)[C@@H]2Cc3c([nH]c4ccccc34)C(=O)C[C...</td>\n",
       "      <td>5281345.0</td>\n",
       "    </tr>\n",
       "    <tr>\n",
       "      <th>4</th>\n",
       "      <td>Agroclavine</td>\n",
       "      <td>Alkaloids</td>\n",
       "      <td>Alkaloids</td>\n",
       "      <td>Other alkaloids</td>\n",
       "      <td>C16H18N2</td>\n",
       "      <td>238.146999</td>\n",
       "      <td>XJOOMMHNYOJWCZ-UKRRQHHQSA-N</td>\n",
       "      <td>CC1=C[C@@H]2c3cccc4[nH]cc(c34)C[C@H]2N(C)C1</td>\n",
       "      <td>73484.0</td>\n",
       "    </tr>\n",
       "  </tbody>\n",
       "</table>\n",
       "</div>"
      ],
      "text/plain": [
       "   refmet_name super_class main_class        sub_class      formula  \\\n",
       "0  Acutumidine   Alkaloids  Alkaloids  Other alkaloids  C18H22ClNO6   \n",
       "1    Adifoline   Alkaloids  Alkaloids  Other alkaloids   C22H20N2O7   \n",
       "2     Adlumine   Alkaloids  Alkaloids  Other alkaloids    C21H21NO6   \n",
       "3     Affinine   Alkaloids  Alkaloids  Other alkaloids   C20H24N2O2   \n",
       "4  Agroclavine   Alkaloids  Alkaloids  Other alkaloids     C16H18N2   \n",
       "\n",
       "    exactmass                    inchi_key  \\\n",
       "0  383.113567  SBALNGLYQFMKPR-NQTWQHAWSA-N   \n",
       "1  424.127053  DJWXVEDJWPDUBQ-DEALGVFLSA-N   \n",
       "2  383.136889  SZDGAZFTAUFFQH-OALUTQOASA-N   \n",
       "3  324.183778  PXFBZOLANLWPMH-SMLHJDAJSA-N   \n",
       "4  238.146999  XJOOMMHNYOJWCZ-UKRRQHHQSA-N   \n",
       "\n",
       "                                              smiles  pubchem_cid  \n",
       "0  COC1=CC(=O)[C@@]2([C@@H]1O)[C@@H](Cl)C[C@]13NC...     442840.0  \n",
       "1  COC(=O)C1=CO[C@H](O)[C@H]2[C@@H]1Cc1nc(C(=O)O)...     441972.0  \n",
       "2  COc1cc2c(cc1OC)[C@@H]([C@H]1OC(=O)c3c1ccc1c3OC...     442155.0  \n",
       "3  C/C=C1/CN(C)[C@@H]2Cc3c([nH]c4ccccc34)C(=O)C[C...    5281345.0  \n",
       "4        CC1=C[C@@H]2c3cccc4[nH]cc(c34)C[C@H]2N(C)C1      73484.0  "
      ]
     },
     "execution_count": 14,
     "metadata": {},
     "output_type": "execute_result"
    }
   ],
   "source": [
    "refmet.head()"
   ]
  },
  {
   "cell_type": "code",
   "execution_count": 16,
   "metadata": {},
   "outputs": [],
   "source": [
    "refmet_inchikeys = refmet['inchi_key'].unique()"
   ]
  },
  {
   "cell_type": "code",
   "execution_count": 21,
   "metadata": {},
   "outputs": [
    {
     "data": {
      "text/plain": [
       "8833"
      ]
     },
     "execution_count": 21,
     "metadata": {},
     "output_type": "execute_result"
    }
   ],
   "source": [
    "len(refmet_inchikeys)"
   ]
  },
  {
   "cell_type": "code",
   "execution_count": 22,
   "metadata": {},
   "outputs": [],
   "source": [
    "# convert numpy array to list\n",
    "refmet_inchikeys_set = set(refmet_inchikeys)"
   ]
  },
  {
   "cell_type": "code",
   "execution_count": 24,
   "metadata": {},
   "outputs": [
    {
     "data": {
      "text/plain": [
       "8833"
      ]
     },
     "execution_count": 24,
     "metadata": {},
     "output_type": "execute_result"
    }
   ],
   "source": [
    "len(refmet_inchikeys_set)"
   ]
  },
  {
   "cell_type": "code",
   "execution_count": 25,
   "metadata": {},
   "outputs": [],
   "source": [
    "pathbank_inchikeys_set = set(pathbank_inchikeys)"
   ]
  },
  {
   "cell_type": "code",
   "execution_count": 26,
   "metadata": {},
   "outputs": [
    {
     "data": {
      "text/plain": [
       "78193"
      ]
     },
     "execution_count": 26,
     "metadata": {},
     "output_type": "execute_result"
    }
   ],
   "source": [
    "len(pathbank_inchikeys_set)"
   ]
  },
  {
   "cell_type": "code",
   "execution_count": 28,
   "metadata": {},
   "outputs": [],
   "source": [
    "# common set of the two sets\n",
    "common_inchikeys = pathbank_inchikeys_set.intersection(refmet_inchikeys_set)"
   ]
  },
  {
   "cell_type": "code",
   "execution_count": 29,
   "metadata": {},
   "outputs": [
    {
     "data": {
      "text/plain": [
       "1125"
      ]
     },
     "execution_count": 29,
     "metadata": {},
     "output_type": "execute_result"
    }
   ],
   "source": [
    "len(common_inchikeys)"
   ]
  },
  {
   "cell_type": "code",
   "execution_count": 30,
   "metadata": {},
   "outputs": [],
   "source": [
    "refmet_first_inchikeys = [x.split('-')[0] for x in refmet_inchikeys]"
   ]
  },
  {
   "cell_type": "code",
   "execution_count": 32,
   "metadata": {},
   "outputs": [],
   "source": [
    "refmet_first_inchikeys_set = set(refmet_first_inchikeys)"
   ]
  },
  {
   "cell_type": "code",
   "execution_count": 34,
   "metadata": {},
   "outputs": [
    {
     "data": {
      "text/plain": [
       "8466"
      ]
     },
     "execution_count": 34,
     "metadata": {},
     "output_type": "execute_result"
    }
   ],
   "source": [
    "len(refmet_first_inchikeys_set)"
   ]
  },
  {
   "cell_type": "code",
   "execution_count": 49,
   "metadata": {},
   "outputs": [
    {
     "data": {
      "text/plain": [
       "array(['ZKHQWZAMYRWXGA-KQYNXXCUSA-N', 'QNAYBMKLOCPYGJ-REOHCLBHSA-N',\n",
       "       'UDMBCSSLTHHNCD-KQYNXXCUSA-N', ..., 'KZJWDPNRJALLNS-VJSFXXLFSA-N',\n",
       "       'OILXMJHPFNGGTO-SDMVIZLASA-N', 'HCXVJBMSMIARIN-PHZDYDNGSA-N'],\n",
       "      dtype=object)"
      ]
     },
     "execution_count": 49,
     "metadata": {},
     "output_type": "execute_result"
    }
   ],
   "source": [
    "pathbank_inchikeys"
   ]
  },
  {
   "cell_type": "code",
   "execution_count": 50,
   "metadata": {},
   "outputs": [],
   "source": [
    "pathbank_first_inchikeys = [x.split('-')[0] for x in pathbank_inchikeys]"
   ]
  },
  {
   "cell_type": "code",
   "execution_count": 51,
   "metadata": {},
   "outputs": [],
   "source": [
    "pathbank_first_inchikeys_set = set(pathbank_first_inchikeys)"
   ]
  },
  {
   "cell_type": "code",
   "execution_count": 52,
   "metadata": {},
   "outputs": [
    {
     "data": {
      "text/plain": [
       "72348"
      ]
     },
     "execution_count": 52,
     "metadata": {},
     "output_type": "execute_result"
    }
   ],
   "source": [
    "len(pathbank_first_inchikeys_set)"
   ]
  },
  {
   "cell_type": "code",
   "execution_count": 53,
   "metadata": {},
   "outputs": [
    {
     "data": {
      "text/plain": [
       "78193"
      ]
     },
     "execution_count": 53,
     "metadata": {},
     "output_type": "execute_result"
    }
   ],
   "source": [
    "len(pathbank_inchikeys_set)"
   ]
  },
  {
   "cell_type": "code",
   "execution_count": 54,
   "metadata": {},
   "outputs": [],
   "source": [
    "common_first_inchikeys = pathbank_first_inchikeys_set.intersection(refmet_first_inchikeys_set)"
   ]
  },
  {
   "cell_type": "code",
   "execution_count": 55,
   "metadata": {},
   "outputs": [
    {
     "data": {
      "text/plain": [
       "1341"
      ]
     },
     "execution_count": 55,
     "metadata": {},
     "output_type": "execute_result"
    }
   ],
   "source": [
    "len(common_first_inchikeys)"
   ]
  },
  {
   "cell_type": "code",
   "execution_count": null,
   "metadata": {},
   "outputs": [],
   "source": []
  }
 ],
 "metadata": {
  "kernelspec": {
   "display_name": "base",
   "language": "python",
   "name": "python3"
  },
  "language_info": {
   "codemirror_mode": {
    "name": "ipython",
    "version": 3
   },
   "file_extension": ".py",
   "mimetype": "text/x-python",
   "name": "python",
   "nbconvert_exporter": "python",
   "pygments_lexer": "ipython3",
   "version": "3.10.12"
  }
 },
 "nbformat": 4,
 "nbformat_minor": 2
}
